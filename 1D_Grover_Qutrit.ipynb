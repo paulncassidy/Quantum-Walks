{
 "cells": [
  {
   "cell_type": "code",
   "execution_count": 2,
   "metadata": {},
   "outputs": [],
   "source": [
    "import numpy as np\n",
    "from numpy.linalg import matrix_power\n",
    "from scipy.linalg import hadamard\n",
    "import matplotlib.pyplot as plt"
   ]
  },
  {
   "cell_type": "code",
   "execution_count": 3,
   "metadata": {},
   "outputs": [],
   "source": [
    "ket0 = np.array([1,0,0])\n",
    "ket1 = np.array([0,1,0])\n",
    "ket2 = np.array([0,0,1])\n",
    "\n",
    "out00 = np.outer(ket0,ket0)\n",
    "out01 = np.outer(ket0,ket1)\n",
    "out02 = np.outer(ket0,ket2)\n",
    "out10 = np.outer(ket1,ket0)\n",
    "out11 = np.outer(ket1,ket1)\n",
    "out12 = np.outer(ket1,ket2)\n",
    "out20 = np.outer(ket2,ket0)\n",
    "out21 = np.outer(ket2,ket1)\n",
    "out22 = np.outer(ket2,ket2)"
   ]
  },
  {
   "cell_type": "code",
   "execution_count": 26,
   "metadata": {},
   "outputs": [],
   "source": [
    "def shift(n, Hp):\n",
    "    upshift = np.zeros(shape=(Hp,Hp)) #HpxHp matrix \n",
    "    for i in range(Hp):\n",
    "        v1 = np.zeros(Hp) \n",
    "        v1[(i+1)%(Hp)] = 1 #|i + 1⟩ \n",
    "        v2 = np.zeros(Hp)\n",
    "        v2[i] = 1 #⟨i|\n",
    "        upshift += np.outer(v1,v2) #|i + 1⟩ ⟨i|\n",
    "\n",
    "    up = np.kron(upshift,out00) \n",
    "\n",
    "    stayshift = np.eye(Hp)\n",
    "    stay = np.kron(stayshift,out11) \n",
    "\n",
    "    downshift = np.zeros(shape=(Hp,Hp)) #HpxHp matrix \n",
    "    for i in range(Hp):\n",
    "        v1 = np.zeros(Hp) \n",
    "        v1[(i-1)%(Hp)] = 1 #|i - 1⟩ \n",
    "        v2 = np.zeros(Hp)\n",
    "        v2[i] = 1 #⟨i|\n",
    "        downshift += np.outer(v1,v2) #|i - 1⟩ ⟨i|\n",
    "\n",
    "    down = np.kron(downshift,out22) \n",
    "\n",
    "    return up + down + stay"
   ]
  },
  {
   "cell_type": "code",
   "execution_count": 1,
   "metadata": {},
   "outputs": [],
   "source": [
    "def walk(t, b):\n",
    "\n",
    "    Hp = 2*t + 1 #Position Hilbert Space\n",
    "    Hc = 3 #Coin Hilbert Space\n",
    "\n",
    "    pos_0 = np.zeros(Hp)\n",
    "    pos_0[t] = 1 #Central starting position\n",
    "\n",
    "    state_i = np.kron(pos_0, b) #b = initial spin state\n",
    "\n",
    "    Grover = (-out00 + 2*out01 + 2*out02 + 2*out10 - out11 + 2*out12 + 2* out20 + 2*out21 - out22) / 3\n",
    "    C = np.kron(np.eye(Hp),Grover) #Coin = Hadamard\n",
    "\n",
    "    U = np.dot(shift(t, Hp),C)\n",
    "\n",
    "    pos_f = matrix_power(U,t).dot(state_i)\n",
    "\n",
    "    l = Hp-1//2\n",
    "    ComPos = np.zeros(Hp)\n",
    "    for i in range(Hp):\n",
    "        ComPos[i] = abs(pos_f[3*i])**2 + abs(pos_f[3*i+1])**2 + abs(pos_f[3*i+2])**2 #probability of spin up + down in position i\n",
    "\n",
    "    return ComPos"
   ]
  },
  {
   "cell_type": "code",
   "execution_count": 13,
   "metadata": {},
   "outputs": [],
   "source": [
    "def norm(t, Hp, compos):\n",
    "    norm = 0\n",
    "    ComPos = compos \n",
    "    k = 3**(4*t)\n",
    "    for i in range(Hp):\n",
    "        norm += ComPos[i] \n",
    "    print(norm)\n",
    "    return norm"
   ]
  },
  {
   "cell_type": "code",
   "execution_count": 27,
   "metadata": {},
   "outputs": [],
   "source": [
    "def plot(t, b, sf, getnorm, getpos):\n",
    "\n",
    "    Hp = 2*t + 1\n",
    "\n",
    "    xpos2 = np.zeros(Hp)\n",
    "    for i in range(0,Hp):\n",
    "        xpos2[i] = i-t \n",
    "\n",
    "    compos = walk(t, b)\n",
    "\n",
    "    plotnorm = norm(t, Hp, compos)\n",
    "\n",
    "    plt.plot(xpos2, (compos), '-b.', linewidth=0.25, markersize=1)\n",
    "    plt.xlabel(\"Position\")\n",
    "    plt.ylabel(\"Probability\")\n",
    "    plt.xlim([-t, t])\n",
    "    plt.ylim(bottom = 0)\n",
    "    plt.figtext(.5, .9, r\"$t = {}$\".format(t), fontsize = 'x-small')\n",
    "    plt.figtext(.65, .9, r\"$norm = {}$\".format(plotnorm), fontsize = 'x-small')\n",
    "    plt.figtext(0.15, 0.9, \"Ψ0 = {}\".format(b), fontsize = 'x-small')\n",
    "\n",
    "    if sf == True:\n",
    "        plt.savefig(\"1D_Qutrit_Grover_Lazy_t{}_{}.pdf\".format(t,b,)) #save image\n",
    "\n",
    "    if getpos == True:\n",
    "        positions(t, Hp, compos) #display all positions"
   ]
  },
  {
   "cell_type": "code",
   "execution_count": 28,
   "metadata": {},
   "outputs": [],
   "source": [
    "def positions(t, Hp, compos):\n",
    "    ComPos = compos\n",
    "    for i in range(Hp):\n",
    "        print(\"Pos\", i-t, \"=\", ComPos[i]) #print all positions"
   ]
  },
  {
   "cell_type": "code",
   "execution_count": 29,
   "metadata": {},
   "outputs": [
    {
     "name": "stdout",
     "output_type": "stream",
     "text": [
      "0.9999999999999959\n"
     ]
    },
    {
     "data": {
      "image/png": "[encoded data removed]",
      "text/plain": [
       "<Figure size 432x288 with 1 Axes>"
      ]
     },
     "metadata": {
      "needs_background": "light"
     },
     "output_type": "display_data"
    }
   ],
   "source": [
    "plot(100, ket1, sf = False, getnorm = True, getpos = False)"
   ]
  },
  {
   "cell_type": "code",
   "execution_count": 30,
   "metadata": {},
   "outputs": [],
   "source": [
    "def localised(t,b,sf):\n",
    "    pos_t_0 = np.zeros(t)\n",
    "\n",
    "    for i in range(t):\n",
    "        pos_t = walk(i,b)\n",
    "        pos_t_0[i] = pos_t[i] \n",
    "\n",
    "    x = np.arange(0, t, 1, dtype=int)\n",
    "\n",
    "    yfit1 = np.full((t, 1), (15-6*np.sqrt(6)))\n",
    "    \n",
    "    plt.plot(x,pos_t_0,'-b.', linewidth=0.25, markersize=1)\n",
    "    plt.plot(x, yfit1, 'y--', label=\"y=15-6*sqrt(6)\")\n",
    "    #plt.ylim([0,1])\n",
    "    plt.xlabel(\"T\")\n",
    "    plt.ylabel(\"Prob at Origin\")\n",
    "    plt.legend(loc='best')\n",
    "\n",
    "    if sf == True:\n",
    "        plt.savefig(\"0prob_t{}_{}.pdf\".format(t,b))"
   ]
  },
  {
   "cell_type": "code",
   "execution_count": 22,
   "metadata": {},
   "outputs": [
    {
     "data": {
      "image/png": "[encoded data removed]",
      "text/plain": [
       "<Figure size 432x288 with 1 Axes>"
      ]
     },
     "metadata": {
      "needs_background": "light"
     },
     "output_type": "display_data"
    }
   ],
   "source": [
    "localised(100, (ket0+ket1+ket2)/np.sqrt(3), False)"
   ]
  },
  {
   "cell_type": "code",
   "execution_count": 24,
   "metadata": {},
   "outputs": [],
   "source": [
    "def localised2(t,b,sf):\n",
    "    pos_t_0 = np.zeros(t)\n",
    "\n",
    "    for i in range(t):\n",
    "        pos_t = walk(i,b)\n",
    "        pos_t_0[i] = pos_t[i] \n",
    "\n",
    "    x = np.arange(1, t+1, 1, dtype=int)\n",
    "    g = 1/x\n",
    "\n",
    "    yfit1 = np.full((t, 1), (15-6*np.sqrt(6)))\n",
    "    \n",
    "    plt.plot(g,pos_t_0,'-b.', linewidth=0.25, markersize=1)\n",
    "    plt.plot(g, yfit1, 'y--', label=\"y=15-6*sqrt(6)\")\n",
    "    plt.ylim([0.07,0.56])\n",
    "    plt.xlim([0.0001,0.1])\n",
    "    plt.xlabel(\"1/T\")\n",
    "    plt.ylabel(\"Prob at Origin\")\n",
    "    plt.legend(loc='best')\n",
    "\n",
    "    if sf == True:\n",
    "        plt.savefig(\"0prob_inv_t{}_{}.pdf\".format(t,b))"
   ]
  },
  {
   "cell_type": "code",
   "execution_count": 25,
   "metadata": {},
   "outputs": [
    {
     "data": {
      "image/png": "[encoded data removed]",
      "text/plain": [
       "<Figure size 432x288 with 1 Axes>"
      ]
     },
     "metadata": {
      "needs_background": "light"
     },
     "output_type": "display_data"
    }
   ],
   "source": [
    "localised2(100, (ket0+ket1+ket2)/np.sqrt(3), True)"
   ]
  }
 ],
 "metadata": {
  "kernelspec": {
   "display_name": "Python 3.9.12 ('base')",
   "language": "python",
   "name": "python3"
  },
  "language_info": {
   "codemirror_mode": {
    "name": "ipython",
    "version": 3
   },
   "file_extension": ".py",
   "mimetype": "text/x-python",
   "name": "python",
   "nbconvert_exporter": "python",
   "pygments_lexer": "ipython3",
   "version": "3.9.12"
  },
  "orig_nbformat": 4,
  "vscode": {
   "interpreter": {
    "hash": "ad2bdc8ecc057115af97d19610ffacc2b4e99fae6737bb82f5d7fb13d2f2c186"
   }
  }
 },
 "nbformat": 4,
 "nbformat_minor": 2
}
