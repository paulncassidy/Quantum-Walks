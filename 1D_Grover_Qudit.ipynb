{
 "cells": [
  {
   "cell_type": "code",
   "execution_count": 2,
   "metadata": {},
   "outputs": [],
   "source": [
    "import numpy as np\n",
    "from numpy.linalg import matrix_power\n",
    "from scipy.linalg import hadamard\n",
    "import matplotlib.pyplot as plt"
   ]
  },
  {
   "cell_type": "code",
   "execution_count": 3,
   "metadata": {},
   "outputs": [],
   "source": [
    "ket0 = np.array([1,0,0,0,0])\n",
    "ket1 = np.array([0,1,0,0,0])\n",
    "ket2 = np.array([0,0,1,0,0])\n",
    "ket3 = np.array([0,0,0,1,0])\n",
    "ket4 = np.array([0,0,0,0,1])\n",
    "\n",
    "out00 = np.outer(ket0,ket0)\n",
    "out01 = np.outer(ket0,ket1)\n",
    "out02 = np.outer(ket0,ket2)\n",
    "out03 = np.outer(ket0,ket3)\n",
    "out04 = np.outer(ket0,ket4)\n",
    "out10 = np.outer(ket1,ket0)\n",
    "out11 = np.outer(ket1,ket1)\n",
    "out12 = np.outer(ket1,ket2)\n",
    "out13 = np.outer(ket1,ket3)\n",
    "out14 = np.outer(ket1,ket4)\n",
    "out20 = np.outer(ket2,ket0)\n",
    "out21 = np.outer(ket2,ket1)\n",
    "out22 = np.outer(ket2,ket2)\n",
    "out23 = np.outer(ket2,ket3)\n",
    "out24 = np.outer(ket2,ket4)\n",
    "out30 = np.outer(ket3,ket0)\n",
    "out31 = np.outer(ket3,ket1)\n",
    "out32 = np.outer(ket3,ket2)\n",
    "out33 = np.outer(ket3,ket3)\n",
    "out34 = np.outer(ket3,ket4)\n",
    "out40 = np.outer(ket4,ket0)\n",
    "out41 = np.outer(ket4,ket1)\n",
    "out42 = np.outer(ket4,ket2)\n",
    "out43 = np.outer(ket4,ket3)\n",
    "out44 = np.outer(ket4,ket4)"
   ]
  },
  {
   "cell_type": "code",
   "execution_count": 4,
   "metadata": {},
   "outputs": [],
   "source": [
    "def shift(Hp):\n",
    "    upshift1 = np.zeros(shape=(Hp,Hp)) #HpxHp matrix \n",
    "    for i in range(Hp):\n",
    "        v1 = np.zeros(Hp) \n",
    "        v1[(i+1)%(Hp)] = 1 #|i + 1⟩ \n",
    "        v2 = np.zeros(Hp)\n",
    "        v2[i] = 1 #⟨i|\n",
    "        upshift1 += np.outer(v1,v2) #|i + 1⟩ ⟨i|\n",
    "\n",
    "    up1 = np.kron(upshift1,out00) \n",
    "\n",
    "    upshift2 = np.zeros(shape=(Hp,Hp)) #HpxHp matrix \n",
    "    for i in range(Hp):\n",
    "        v1 = np.zeros(Hp) \n",
    "        v1[(i+1)%(Hp)] = 1 #|i + 1⟩ \n",
    "        v2 = np.zeros(Hp)\n",
    "        v2[i] = 1 #⟨i|\n",
    "        upshift2 += np.outer(v1,v2) #|i + 1⟩ ⟨i|\n",
    "\n",
    "    up2 = np.kron(upshift2,out11) \n",
    "\n",
    "    stayshift = np.eye(Hp)\n",
    "    stay = np.kron(stayshift,out22) \n",
    "\n",
    "    downshift2 = np.zeros(shape=(Hp,Hp)) #HpxHp matrix \n",
    "    for i in range(Hp):\n",
    "        v1 = np.zeros(Hp) \n",
    "        v1[(i-1)%(Hp)] = 1 #|i - 1⟩ \n",
    "        v2 = np.zeros(Hp)\n",
    "        v2[i] = 1 #⟨i|\n",
    "        downshift2 += np.outer(v1,v2) #|i - 1⟩ ⟨i|\n",
    "\n",
    "    down2 = np.kron(downshift2,out33) \n",
    "\n",
    "    downshift1 = np.zeros(shape=(Hp,Hp)) #HpxHp matrix \n",
    "    for i in range(Hp):\n",
    "        v1 = np.zeros(Hp) \n",
    "        v1[(i-1)%(Hp)] = 1 #|i - 1⟩ \n",
    "        v2 = np.zeros(Hp)\n",
    "        v2[i] = 1 #⟨i|\n",
    "        downshift1 += np.outer(v1,v2) #|i - 1⟩ ⟨i|\n",
    "\n",
    "    down1 = np.kron(downshift1,out44) \n",
    "\n",
    "    return up1 + up2 + stay + down2 + down1"
   ]
  },
  {
   "cell_type": "code",
   "execution_count": 5,
   "metadata": {},
   "outputs": [],
   "source": [
    "def walk(t, b):\n",
    "\n",
    "    Hp = 2*t + 1 #Position Hilbert Space\n",
    "    Hc = 5 #Coin Hilbert Space\n",
    "\n",
    "    pos_0 = np.zeros(Hp)\n",
    "    pos_0[t] = 1 #Central starting position\n",
    "\n",
    "    state_i = np.kron(pos_0, b) #b = initial spin state\n",
    "\n",
    "    Grover = (-3*out00 + 2*out01 + 2*out02 + 2*out03 + 2*out04 + 2*out10 -3*out11 + 2*out12 + 2*out13 + 2*out14 + 2*out20 + 2*out21 -3*out22 + 2*out23 + 2*out24 + 2*out30 + 2*out31 + 2*out32 -3*out33 + 2*out34 + 2*out40 + 2*out41 +2*out42 + 2*out43 -3*out44) / 5\n",
    "    C = np.kron(np.eye(Hp),Grover) #Coin = Hadamard\n",
    "\n",
    "    U = np.dot(shift(Hp),C)\n",
    "\n",
    "    pos_f = matrix_power(U,t).dot(state_i)\n",
    "\n",
    "    l = Hp-1//2\n",
    "    ComPos = np.zeros(Hp)\n",
    "    for i in range(Hp):\n",
    "        ComPos[i] = abs(pos_f[Hc*i])**2 + abs(pos_f[Hc*i+1])**2 + abs(pos_f[Hc*i+2])**2 + abs(pos_f[Hc*i+3])**2 + abs(pos_f[Hc*i+4])**2 #probability of spin up + down in position i\n",
    "\n",
    "    return ComPos"
   ]
  },
  {
   "cell_type": "code",
   "execution_count": 6,
   "metadata": {},
   "outputs": [],
   "source": [
    "def norm(t, Hp, compos):\n",
    "    norm = 0\n",
    "    ComPos = compos \n",
    "    for i in range(Hp):\n",
    "        norm += ComPos[i] \n",
    "    print(norm)\n",
    "    return norm"
   ]
  },
  {
   "cell_type": "code",
   "execution_count": 7,
   "metadata": {},
   "outputs": [],
   "source": [
    "def plot(t, b, sf, getnorm, getpos):\n",
    "\n",
    "    Hp = 2*t + 1\n",
    "\n",
    "    xpos2 = np.zeros(Hp)\n",
    "    for i in range(0,Hp):\n",
    "        xpos2[i] = i-t \n",
    "\n",
    "    compos = walk(t, b)\n",
    "\n",
    "    plotnorm = norm(t, Hp, compos)\n",
    "\n",
    "    plt.plot(xpos2, (compos), '-b.', linewidth=0.25, markersize=1)\n",
    "    plt.xlabel(\"Position\")\n",
    "    plt.ylabel(\"Probability\")\n",
    "    plt.xlim([-t, t])\n",
    "    plt.ylim(bottom = 0)\n",
    "    plt.figtext(.5, .9, r\"$t = {}$\".format(t), fontsize = 'x-small')\n",
    "    plt.figtext(.65, .9, r\"$norm = {}$\".format(plotnorm), fontsize = 'x-small')\n",
    "    plt.figtext(0.15, 0.9, \"Ψ0 = {}\".format(b), fontsize = 'x-small')\n",
    "\n",
    "    if sf == True:\n",
    "        plt.savefig(\"1D_Qutrit_Grover_Lazy_t{}_{}.pdf\".format(t,b,)) #save image\n",
    "\n",
    "    if getpos == True:\n",
    "        positions(t, Hp, compos) #display all positions"
   ]
  },
  {
   "cell_type": "code",
   "execution_count": 8,
   "metadata": {},
   "outputs": [],
   "source": [
    "def positions(t, Hp, compos):\n",
    "    ComPos = compos\n",
    "    for i in range(Hp):\n",
    "        print(\"Pos\", i-t, \"=\", ComPos[i]) #print all positions"
   ]
  },
  {
   "cell_type": "code",
   "execution_count": 9,
   "metadata": {},
   "outputs": [
    {
     "name": "stdout",
     "output_type": "stream",
     "text": [
      "1.0000000000000142\n"
     ]
    },
    {
     "data": {
      "image/png": "[encoded data removed]",
      "text/plain": [
       "<Figure size 432x288 with 1 Axes>"
      ]
     },
     "metadata": {
      "needs_background": "light"
     },
     "output_type": "display_data"
    }
   ],
   "source": [
    "plot(100, ket2, sf = False, getnorm = True, getpos = False)"
   ]
  },
  {
   "cell_type": "code",
   "execution_count": 12,
   "metadata": {},
   "outputs": [],
   "source": [
    "def localised(t,b,sf):\n",
    "    pos_t_0 = np.zeros(t)\n",
    "\n",
    "    for i in range(t):\n",
    "        pos_t = walk(i,b)\n",
    "        pos_t_0[i] = pos_t[i] \n",
    "\n",
    "    x = np.arange(0, t, 1, dtype=int)\n",
    "    \n",
    "    plt.plot(x,pos_t_0,'-b.', linewidth=0.25, markersize=1)\n",
    "    plt.xlabel(\"T\")\n",
    "    plt.ylabel(\"Prob at Origin\")\n",
    "\n",
    "    if sf == True:\n",
    "        plt.savefig(\"0prob_t{}_{}.pdf\".format(t,b))"
   ]
  },
  {
   "cell_type": "code",
   "execution_count": 11,
   "metadata": {},
   "outputs": [
    {
     "data": {
      "image/png": "[encoded data removed]",
      "text/plain": [
       "<Figure size 432x288 with 1 Axes>"
      ]
     },
     "metadata": {
      "needs_background": "light"
     },
     "output_type": "display_data"
    }
   ],
   "source": [
    "localised(100, ket2, False)"
   ]
  }
 ],
 "metadata": {
  "kernelspec": {
   "display_name": "base",
   "language": "python",
   "name": "python3"
  },
  "language_info": {
   "codemirror_mode": {
    "name": "ipython",
    "version": 3
   },
   "file_extension": ".py",
   "mimetype": "text/x-python",
   "name": "python",
   "nbconvert_exporter": "python",
   "pygments_lexer": "ipython3",
   "version": "3.9.12"
  },
  "orig_nbformat": 4,
  "vscode": {
   "interpreter": {
    "hash": "ad2bdc8ecc057115af97d19610ffacc2b4e99fae6737bb82f5d7fb13d2f2c186"
   }
  }
 },
 "nbformat": 4,
 "nbformat_minor": 2
}
