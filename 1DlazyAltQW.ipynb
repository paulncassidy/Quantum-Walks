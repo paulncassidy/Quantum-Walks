{
 "cells": [
  {
   "cell_type": "code",
   "execution_count": 1,
   "metadata": {},
   "outputs": [],
   "source": [
    "import numpy as np\n",
    "from numpy.linalg import matrix_power\n",
    "from scipy.linalg import hadamard\n",
    "import matplotlib.pyplot as plt"
   ]
  },
  {
   "cell_type": "markdown",
   "metadata": {},
   "source": [
    "Defining $\\begin{bmatrix} 1 \\\\ 0 \\end{bmatrix}$, $\\begin{bmatrix} 0 \\\\ 1 \\end{bmatrix}$, $\\begin{bmatrix} 1 & 0 \\\\ 0 & 0 \\end{bmatrix}$, $\\begin{bmatrix} 0 & 1 \\\\ 0 & 0 \\end{bmatrix}$, $\\begin{bmatrix} 0 & 0 \\\\ 1 & 0 \\end{bmatrix}$ and $\\begin{bmatrix} 0 & 0 \\\\ 0 & 1 \\end{bmatrix}$"
   ]
  },
  {
   "cell_type": "code",
   "execution_count": 2,
   "metadata": {},
   "outputs": [],
   "source": [
    "ket0 = np.array([1,0])\n",
    "ket1 = np.array([0,1])\n",
    "out00 = np.outer(ket0,ket0)\n",
    "out01 = np.outer(ket0,ket1)\n",
    "out10 = np.outer(ket1,ket0)\n",
    "out11 = np.outer(ket1,ket1)"
   ]
  },
  {
   "cell_type": "markdown",
   "metadata": {},
   "source": [
    "Defining the Shift Operator from the following equation: \n",
    "$S_{R} = \\sum_{i} |i + 1⟩ ⟨i| \\otimes |\\uparrow ⟩ ⟨ \\uparrow| + \\mathbb{I}_{Hp} \\otimes |\\downarrow ⟩ ⟨ \\downarrow|$ \n",
    "\n",
    "$S_{L} = \\sum_{i} |i - 1⟩ ⟨i| \\otimes |\\uparrow ⟩ ⟨ \\uparrow| + \\mathbb{I}_{Hp} \\otimes |\\downarrow ⟩ ⟨ \\downarrow|$ "
   ]
  },
  {
   "cell_type": "code",
   "execution_count": 3,
   "metadata": {},
   "outputs": [],
   "source": [
    "def shift_L(n, Hp):\n",
    "    upshift = np.zeros(shape=(Hp,Hp)) #HpxHp matrix \n",
    "    for i in range(Hp):\n",
    "        v1 = np.zeros(Hp) \n",
    "        v1[(i-1)%(Hp)] = 1 #|i - 1⟩ \n",
    "        v2 = np.zeros(Hp)\n",
    "        v2[i] = 1 #⟨i|\n",
    "        upshift += np.outer(v1,v2) #|i - 1⟩ ⟨i|\n",
    "\n",
    "    up = np.kron(upshift,out00) \n",
    "\n",
    "    downshift = np.eye(Hp)\n",
    "\n",
    "    down = np.kron(downshift,out11) \n",
    "    return up + down\n",
    "\n",
    "\n",
    "def shift_R(n, Hp):\n",
    "    upshift = np.zeros(shape=(Hp,Hp)) #HpxHp matrix \n",
    "    for i in range(Hp):\n",
    "        v1 = np.zeros(Hp) \n",
    "        v1[(i+1)%(Hp)] = 1 #|i + 1⟩ \n",
    "        v2 = np.zeros(Hp)\n",
    "        v2[i] = 1 #⟨i|\n",
    "        upshift += np.outer(v1,v2) #|i + 1⟩ ⟨i|\n",
    "\n",
    "    up = np.kron(upshift,out00) \n",
    "\n",
    "    downshift = np.eye(Hp)\n",
    "\n",
    "    down = np.kron(downshift,out11) \n",
    "    return up + down"
   ]
  },
  {
   "cell_type": "markdown",
   "metadata": {},
   "source": [
    "$U_{R} = S_{R} \\cdot (I \\otimes C)$\n",
    "\n",
    "$U_{L} = S_{L} \\cdot (I \\otimes C)$\n",
    "\n",
    "$U = U_{L} U_{R}$\n",
    "\n",
    "$\\Psi_{f} = (U)^{t}  \\Psi_i $"
   ]
  },
  {
   "cell_type": "code",
   "execution_count": 4,
   "metadata": {},
   "outputs": [],
   "source": [
    "def walk(t, b):\n",
    "\n",
    "    Hp = 2*t + 1 #Position Hilbert Space\n",
    "    Hc = 2 #Coin Hilbert Space\n",
    "\n",
    "    pos_0 = np.zeros(Hp)\n",
    "    pos_0[t] = 1 #Central starting position\n",
    "\n",
    "    state_i = np.kron(pos_0, b) #b = initial spin state\n",
    "\n",
    "    C = np.kron(np.eye(Hp),hadamard(Hc)) #Coin = Hadamard\n",
    "\n",
    "    UR = np.dot(shift_R(t, Hp),C)\n",
    "    UL = np.dot(shift_L(t, Hp),C)\n",
    "\n",
    "    U = np.dot(UL,UR)\n",
    "\n",
    "    pos_f = matrix_power(U,t).dot(state_i)\n",
    "\n",
    "    l = Hp-1//2\n",
    "    ComPos = np.zeros(Hp)\n",
    "    for i in range(Hp):\n",
    "        ComPos[i] = abs(pos_f[2*i])**2 + abs(pos_f[2*i+1])**2 #probability of spin up + down in position i\n",
    "\n",
    "    return ComPos"
   ]
  },
  {
   "cell_type": "code",
   "execution_count": 5,
   "metadata": {},
   "outputs": [],
   "source": [
    "def norm(t, Hp, compos):\n",
    "    norm = 0\n",
    "    ComPos = compos \n",
    "    k = 2**(4*t)\n",
    "    for i in range(Hp):\n",
    "        norm += ComPos[i] / (np.sqrt(float(k))) #normalising\n",
    "    print(\"norm = \", norm)"
   ]
  },
  {
   "cell_type": "code",
   "execution_count": 6,
   "metadata": {},
   "outputs": [],
   "source": [
    "def plot(t, b, sf, getnorm, getpos):\n",
    "\n",
    "    Hp = 2*t + 1\n",
    "\n",
    "    xpos2 = np.zeros(Hp)\n",
    "    compos2 = np.zeros(Hp-t)\n",
    "    for i in range(0,Hp):\n",
    "        xpos2[i] = i-t #every second position\n",
    "\n",
    "    compos = walk(t, b)\n",
    "\n",
    "    for i in range(0,Hp,2):\n",
    "        j = i//2\n",
    "        compos2[j] = compos[i] #every second position\n",
    "\n",
    "    k = 2**(4*t) #normalising\n",
    "\n",
    "    plt.plot(xpos2, (compos) / (np.sqrt(float(k))))\n",
    "    plt.xlabel(\"Position\")\n",
    "    plt.ylabel(\"Probability\")\n",
    "    plt.xlim([-t, t])\n",
    "    plt.ylim(bottom = 0)\n",
    "    plt.figtext(.75, .9, r\"$t = {}$\".format(t), fontsize = 'x-small')\n",
    "    plt.figtext(.85, .9, r\"${} Sr + {} Sl$\".format(t,t), fontsize = 'x-small')\n",
    "    plt.figtext(0.15, 0.9, \"Ψ0 = {}\".format(b), fontsize = 'x-small')\n",
    "\n",
    "    if getnorm == True:\n",
    "        norm(t, Hp, compos) #display norm\n",
    "\n",
    "    if sf == True:\n",
    "        plt.savefig(\"1D_Alt_Lazy_t{}_{}.pdf\".format(t,b)) #save image\n",
    "\n",
    "    if getpos == True:\n",
    "        positions(t, Hp, compos) #display all positions\n"
   ]
  },
  {
   "cell_type": "code",
   "execution_count": 7,
   "metadata": {},
   "outputs": [],
   "source": [
    "def positions(t, Hp, compos):\n",
    "    ComPos = compos\n",
    "    for i in range(Hp):\n",
    "        print(\"Pos\", i-t, \"=\", ComPos[i]) #print all positions"
   ]
  },
  {
   "cell_type": "code",
   "execution_count": 8,
   "metadata": {},
   "outputs": [
    {
     "data": {
      "image/png": "[encoded data removed]",
      "text/plain": [
       "<Figure size 432x288 with 1 Axes>"
      ]
     },
     "metadata": {
      "needs_background": "light"
     },
     "output_type": "display_data"
    }
   ],
   "source": [
    "#plot(number of steps, intial spin state, save image, display norm, print all positions)\n",
    "#common initial states:\n",
    "bal = (ket0 + ket1*1j) / np.sqrt(2)\n",
    "bal2 = (np.sqrt(0.85)*ket0 - np.sqrt(0.15)*ket1)\n",
    "ket0\n",
    "ket1\n",
    "\n",
    "plot(100, bal, sf = True, getnorm = False, getpos = False)\n",
    "\n"
   ]
  }
 ],
 "metadata": {
  "kernelspec": {
   "display_name": "Python 3.9.12 ('base')",
   "language": "python",
   "name": "python3"
  },
  "language_info": {
   "codemirror_mode": {
    "name": "ipython",
    "version": 3
   },
   "file_extension": ".py",
   "mimetype": "text/x-python",
   "name": "python",
   "nbconvert_exporter": "python",
   "pygments_lexer": "ipython3",
   "version": "3.9.12"
  },
  "orig_nbformat": 4,
  "vscode": {
   "interpreter": {
    "hash": "ad2bdc8ecc057115af97d19610ffacc2b4e99fae6737bb82f5d7fb13d2f2c186"
   }
  }
 },
 "nbformat": 4,
 "nbformat_minor": 2
}
